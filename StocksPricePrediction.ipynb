{
 "cells": [
  {
   "cell_type": "code",
   "execution_count": 1,
   "id": "8c8845d5",
   "metadata": {},
   "outputs": [],
   "source": [
    "import matplotlib.pyplot as plt\n",
    "import pandas as pd\n",
    "import numpy as np"
   ]
  },
  {
   "cell_type": "code",
   "execution_count": 2,
   "id": "5c9081c3",
   "metadata": {},
   "outputs": [],
   "source": [
    "df_train = pd.read_csv('Google_Stock_Price_Train.csv')\n",
    "df_test = pd.read_csv('Google_Stock_Price_Test.csv')"
   ]
  },
  {
   "cell_type": "code",
   "execution_count": 3,
   "id": "9b156678",
   "metadata": {},
   "outputs": [
    {
     "data": {
      "text/html": [
       "<div>\n",
       "<style scoped>\n",
       "    .dataframe tbody tr th:only-of-type {\n",
       "        vertical-align: middle;\n",
       "    }\n",
       "\n",
       "    .dataframe tbody tr th {\n",
       "        vertical-align: top;\n",
       "    }\n",
       "\n",
       "    .dataframe thead th {\n",
       "        text-align: right;\n",
       "    }\n",
       "</style>\n",
       "<table border=\"1\" class=\"dataframe\">\n",
       "  <thead>\n",
       "    <tr style=\"text-align: right;\">\n",
       "      <th></th>\n",
       "      <th>Date</th>\n",
       "      <th>Open</th>\n",
       "      <th>High</th>\n",
       "      <th>Low</th>\n",
       "      <th>Close</th>\n",
       "      <th>Volume</th>\n",
       "    </tr>\n",
       "  </thead>\n",
       "  <tbody>\n",
       "    <tr>\n",
       "      <th>0</th>\n",
       "      <td>1/3/2012</td>\n",
       "      <td>325.25</td>\n",
       "      <td>332.83</td>\n",
       "      <td>324.97</td>\n",
       "      <td>663.59</td>\n",
       "      <td>7,380,500</td>\n",
       "    </tr>\n",
       "    <tr>\n",
       "      <th>1</th>\n",
       "      <td>1/4/2012</td>\n",
       "      <td>331.27</td>\n",
       "      <td>333.87</td>\n",
       "      <td>329.08</td>\n",
       "      <td>666.45</td>\n",
       "      <td>5,749,400</td>\n",
       "    </tr>\n",
       "    <tr>\n",
       "      <th>2</th>\n",
       "      <td>1/5/2012</td>\n",
       "      <td>329.83</td>\n",
       "      <td>330.75</td>\n",
       "      <td>326.89</td>\n",
       "      <td>657.21</td>\n",
       "      <td>6,590,300</td>\n",
       "    </tr>\n",
       "    <tr>\n",
       "      <th>3</th>\n",
       "      <td>1/6/2012</td>\n",
       "      <td>328.34</td>\n",
       "      <td>328.77</td>\n",
       "      <td>323.68</td>\n",
       "      <td>648.24</td>\n",
       "      <td>5,405,900</td>\n",
       "    </tr>\n",
       "    <tr>\n",
       "      <th>4</th>\n",
       "      <td>1/9/2012</td>\n",
       "      <td>322.04</td>\n",
       "      <td>322.29</td>\n",
       "      <td>309.46</td>\n",
       "      <td>620.76</td>\n",
       "      <td>11,688,800</td>\n",
       "    </tr>\n",
       "  </tbody>\n",
       "</table>\n",
       "</div>"
      ],
      "text/plain": [
       "       Date    Open    High     Low   Close      Volume\n",
       "0  1/3/2012  325.25  332.83  324.97  663.59   7,380,500\n",
       "1  1/4/2012  331.27  333.87  329.08  666.45   5,749,400\n",
       "2  1/5/2012  329.83  330.75  326.89  657.21   6,590,300\n",
       "3  1/6/2012  328.34  328.77  323.68  648.24   5,405,900\n",
       "4  1/9/2012  322.04  322.29  309.46  620.76  11,688,800"
      ]
     },
     "execution_count": 3,
     "metadata": {},
     "output_type": "execute_result"
    }
   ],
   "source": [
    "df_train.head()"
   ]
  },
  {
   "cell_type": "code",
   "execution_count": 4,
   "id": "1738a7bb",
   "metadata": {},
   "outputs": [
    {
     "data": {
      "text/html": [
       "<div>\n",
       "<style scoped>\n",
       "    .dataframe tbody tr th:only-of-type {\n",
       "        vertical-align: middle;\n",
       "    }\n",
       "\n",
       "    .dataframe tbody tr th {\n",
       "        vertical-align: top;\n",
       "    }\n",
       "\n",
       "    .dataframe thead th {\n",
       "        text-align: right;\n",
       "    }\n",
       "</style>\n",
       "<table border=\"1\" class=\"dataframe\">\n",
       "  <thead>\n",
       "    <tr style=\"text-align: right;\">\n",
       "      <th></th>\n",
       "      <th>Date</th>\n",
       "      <th>Open</th>\n",
       "      <th>High</th>\n",
       "      <th>Low</th>\n",
       "      <th>Close</th>\n",
       "      <th>Volume</th>\n",
       "    </tr>\n",
       "  </thead>\n",
       "  <tbody>\n",
       "    <tr>\n",
       "      <th>1253</th>\n",
       "      <td>12/23/2016</td>\n",
       "      <td>790.90</td>\n",
       "      <td>792.74</td>\n",
       "      <td>787.28</td>\n",
       "      <td>789.91</td>\n",
       "      <td>623,400</td>\n",
       "    </tr>\n",
       "    <tr>\n",
       "      <th>1254</th>\n",
       "      <td>12/27/2016</td>\n",
       "      <td>790.68</td>\n",
       "      <td>797.86</td>\n",
       "      <td>787.66</td>\n",
       "      <td>791.55</td>\n",
       "      <td>789,100</td>\n",
       "    </tr>\n",
       "    <tr>\n",
       "      <th>1255</th>\n",
       "      <td>12/28/2016</td>\n",
       "      <td>793.70</td>\n",
       "      <td>794.23</td>\n",
       "      <td>783.20</td>\n",
       "      <td>785.05</td>\n",
       "      <td>1,153,800</td>\n",
       "    </tr>\n",
       "    <tr>\n",
       "      <th>1256</th>\n",
       "      <td>12/29/2016</td>\n",
       "      <td>783.33</td>\n",
       "      <td>785.93</td>\n",
       "      <td>778.92</td>\n",
       "      <td>782.79</td>\n",
       "      <td>744,300</td>\n",
       "    </tr>\n",
       "    <tr>\n",
       "      <th>1257</th>\n",
       "      <td>12/30/2016</td>\n",
       "      <td>782.75</td>\n",
       "      <td>782.78</td>\n",
       "      <td>770.41</td>\n",
       "      <td>771.82</td>\n",
       "      <td>1,770,000</td>\n",
       "    </tr>\n",
       "  </tbody>\n",
       "</table>\n",
       "</div>"
      ],
      "text/plain": [
       "            Date    Open    High     Low   Close     Volume\n",
       "1253  12/23/2016  790.90  792.74  787.28  789.91    623,400\n",
       "1254  12/27/2016  790.68  797.86  787.66  791.55    789,100\n",
       "1255  12/28/2016  793.70  794.23  783.20  785.05  1,153,800\n",
       "1256  12/29/2016  783.33  785.93  778.92  782.79    744,300\n",
       "1257  12/30/2016  782.75  782.78  770.41  771.82  1,770,000"
      ]
     },
     "execution_count": 4,
     "metadata": {},
     "output_type": "execute_result"
    }
   ],
   "source": [
    "df_train.tail()"
   ]
  },
  {
   "cell_type": "code",
   "execution_count": 5,
   "id": "b6c6a545",
   "metadata": {},
   "outputs": [
    {
     "data": {
      "text/html": [
       "<div>\n",
       "<style scoped>\n",
       "    .dataframe tbody tr th:only-of-type {\n",
       "        vertical-align: middle;\n",
       "    }\n",
       "\n",
       "    .dataframe tbody tr th {\n",
       "        vertical-align: top;\n",
       "    }\n",
       "\n",
       "    .dataframe thead th {\n",
       "        text-align: right;\n",
       "    }\n",
       "</style>\n",
       "<table border=\"1\" class=\"dataframe\">\n",
       "  <thead>\n",
       "    <tr style=\"text-align: right;\">\n",
       "      <th></th>\n",
       "      <th>Date</th>\n",
       "      <th>Open</th>\n",
       "      <th>High</th>\n",
       "      <th>Low</th>\n",
       "      <th>Close</th>\n",
       "      <th>Volume</th>\n",
       "    </tr>\n",
       "  </thead>\n",
       "  <tbody>\n",
       "    <tr>\n",
       "      <th>0</th>\n",
       "      <td>1/3/2017</td>\n",
       "      <td>778.81</td>\n",
       "      <td>789.63</td>\n",
       "      <td>775.80</td>\n",
       "      <td>786.14</td>\n",
       "      <td>1,657,300</td>\n",
       "    </tr>\n",
       "    <tr>\n",
       "      <th>1</th>\n",
       "      <td>1/4/2017</td>\n",
       "      <td>788.36</td>\n",
       "      <td>791.34</td>\n",
       "      <td>783.16</td>\n",
       "      <td>786.90</td>\n",
       "      <td>1,073,000</td>\n",
       "    </tr>\n",
       "    <tr>\n",
       "      <th>2</th>\n",
       "      <td>1/5/2017</td>\n",
       "      <td>786.08</td>\n",
       "      <td>794.48</td>\n",
       "      <td>785.02</td>\n",
       "      <td>794.02</td>\n",
       "      <td>1,335,200</td>\n",
       "    </tr>\n",
       "    <tr>\n",
       "      <th>3</th>\n",
       "      <td>1/6/2017</td>\n",
       "      <td>795.26</td>\n",
       "      <td>807.90</td>\n",
       "      <td>792.20</td>\n",
       "      <td>806.15</td>\n",
       "      <td>1,640,200</td>\n",
       "    </tr>\n",
       "    <tr>\n",
       "      <th>4</th>\n",
       "      <td>1/9/2017</td>\n",
       "      <td>806.40</td>\n",
       "      <td>809.97</td>\n",
       "      <td>802.83</td>\n",
       "      <td>806.65</td>\n",
       "      <td>1,272,400</td>\n",
       "    </tr>\n",
       "  </tbody>\n",
       "</table>\n",
       "</div>"
      ],
      "text/plain": [
       "       Date    Open    High     Low   Close     Volume\n",
       "0  1/3/2017  778.81  789.63  775.80  786.14  1,657,300\n",
       "1  1/4/2017  788.36  791.34  783.16  786.90  1,073,000\n",
       "2  1/5/2017  786.08  794.48  785.02  794.02  1,335,200\n",
       "3  1/6/2017  795.26  807.90  792.20  806.15  1,640,200\n",
       "4  1/9/2017  806.40  809.97  802.83  806.65  1,272,400"
      ]
     },
     "execution_count": 5,
     "metadata": {},
     "output_type": "execute_result"
    }
   ],
   "source": [
    "df_test.head()"
   ]
  },
  {
   "cell_type": "code",
   "execution_count": 6,
   "id": "fc63bce0",
   "metadata": {},
   "outputs": [
    {
     "data": {
      "text/plain": [
       "Date       object\n",
       "Open      float64\n",
       "High      float64\n",
       "Low       float64\n",
       "Close     float64\n",
       "Volume     object\n",
       "dtype: object"
      ]
     },
     "execution_count": 6,
     "metadata": {},
     "output_type": "execute_result"
    }
   ],
   "source": [
    "df_test.dtypes"
   ]
  },
  {
   "cell_type": "code",
   "execution_count": 7,
   "id": "f0b7191e",
   "metadata": {},
   "outputs": [
    {
     "data": {
      "text/plain": [
       "[<matplotlib.lines.Line2D at 0x1e0de6d0400>]"
      ]
     },
     "execution_count": 7,
     "metadata": {},
     "output_type": "execute_result"
    },
    {
     "data": {
      "image/png": "[encoded data removed]",
      "text/plain": [
       "<Figure size 640x480 with 1 Axes>"
      ]
     },
     "metadata": {},
     "output_type": "display_data"
    }
   ],
   "source": [
    "plt.plot(pd.to_datetime(df_train['Date']), df_train['Open'])"
   ]
  },
  {
   "cell_type": "code",
   "execution_count": 8,
   "id": "5ca7f084",
   "metadata": {},
   "outputs": [],
   "source": [
    "df_train[\"Volume\"] = df_train[\"Volume\"].str.replace(',', '').astype(float)\n",
    "df_train.dtypes\n",
    "X = df_train[['Open','High','Low','Volume']]"
   ]
  },
  {
   "cell_type": "code",
   "execution_count": 9,
   "id": "47e7d202",
   "metadata": {},
   "outputs": [],
   "source": [
    "from sklearn.preprocessing import MinMaxScaler"
   ]
  },
  {
   "cell_type": "code",
   "execution_count": 10,
   "id": "df39e422",
   "metadata": {},
   "outputs": [
    {
     "data": {
      "text/plain": [
       "Date       object\n",
       "Open      float64\n",
       "High      float64\n",
       "Low       float64\n",
       "Close      object\n",
       "Volume    float64\n",
       "dtype: object"
      ]
     },
     "execution_count": 10,
     "metadata": {},
     "output_type": "execute_result"
    }
   ],
   "source": [
    "scaler = MinMaxScaler()\n",
    "X_scaled = scaler.fit_transform(X)\n",
    "df_train.dtypes"
   ]
  },
  {
   "cell_type": "code",
   "execution_count": 11,
   "id": "2963897f",
   "metadata": {},
   "outputs": [
    {
     "data": {
      "text/plain": [
       "(1258, 4)"
      ]
     },
     "execution_count": 11,
     "metadata": {},
     "output_type": "execute_result"
    }
   ],
   "source": [
    "X_scaled.shape"
   ]
  },
  {
   "cell_type": "code",
   "execution_count": 12,
   "id": "857681ce",
   "metadata": {},
   "outputs": [],
   "source": [
    "rows = []\n",
    "y = []\n",
    "for i in range(1198):\n",
    "    rows.append(X_scaled[i:60+i])\n",
    "    y.append(X_scaled[60+i,0])\n",
    "X_final = np.array(rows)\n",
    "y_final = np.array(y)"
   ]
  },
  {
   "cell_type": "code",
   "execution_count": 13,
   "id": "6a558c65",
   "metadata": {},
   "outputs": [
    {
     "data": {
      "text/plain": [
       "(1198, 60, 4)"
      ]
     },
     "execution_count": 13,
     "metadata": {},
     "output_type": "execute_result"
    }
   ],
   "source": [
    "X_final.shape"
   ]
  },
  {
   "cell_type": "code",
   "execution_count": 15,
   "id": "adbdc0af",
   "metadata": {},
   "outputs": [],
   "source": [
    "from tensorflow.keras.models import Sequential\n",
    "from tensorflow.keras.layers import LSTM,Dense"
   ]
  },
  {
   "cell_type": "code",
   "execution_count": 16,
   "id": "4b37ae73",
   "metadata": {},
   "outputs": [],
   "source": [
    "model = Sequential()\n",
    "model.add(LSTM(70, return_sequences = True, input_shape = (60,4)))\n",
    "model.add(LSTM(70, return_sequences = True))\n",
    "model.add(LSTM(70, return_sequences = True))\n",
    "model.add(LSTM(70, return_sequences = False))\n",
    "model.add(Dense(1))\n",
    "\n",
    "model.compile(loss='mean_squared_error')"
   ]
  },
  {
   "cell_type": "code",
   "execution_count": 17,
   "id": "fc579502",
   "metadata": {},
   "outputs": [
    {
     "name": "stdout",
     "output_type": "stream",
     "text": [
      "Epoch 1/40\n",
      "38/38 [==============================] - 13s 128ms/step - loss: 0.0353\n",
      "Epoch 2/40\n",
      "38/38 [==============================] - 4s 101ms/step - loss: 0.0119\n",
      "Epoch 3/40\n",
      "38/38 [==============================] - 3s 90ms/step - loss: 0.0066\n",
      "Epoch 4/40\n",
      "38/38 [==============================] - 3s 91ms/step - loss: 0.0086\n",
      "Epoch 5/40\n",
      "38/38 [==============================] - 3s 89ms/step - loss: 0.0068\n",
      "Epoch 6/40\n",
      "38/38 [==============================] - 4s 93ms/step - loss: 0.0056\n",
      "Epoch 7/40\n",
      "38/38 [==============================] - 3s 87ms/step - loss: 0.0053\n",
      "Epoch 8/40\n",
      "38/38 [==============================] - 3s 87ms/step - loss: 0.0047\n",
      "Epoch 9/40\n",
      "38/38 [==============================] - 3s 90ms/step - loss: 0.0043\n",
      "Epoch 10/40\n",
      "38/38 [==============================] - 3s 88ms/step - loss: 0.0042\n",
      "Epoch 11/40\n",
      "38/38 [==============================] - 3s 87ms/step - loss: 0.0035\n",
      "Epoch 12/40\n",
      "38/38 [==============================] - 3s 87ms/step - loss: 0.0033\n",
      "Epoch 13/40\n",
      "38/38 [==============================] - 3s 88ms/step - loss: 0.0039\n",
      "Epoch 14/40\n",
      "38/38 [==============================] - 3s 88ms/step - loss: 0.0031\n",
      "Epoch 15/40\n",
      "38/38 [==============================] - 3s 88ms/step - loss: 0.0033\n",
      "Epoch 16/40\n",
      "38/38 [==============================] - 3s 86ms/step - loss: 0.0030\n",
      "Epoch 17/40\n",
      "38/38 [==============================] - 3s 86ms/step - loss: 0.0029\n",
      "Epoch 18/40\n",
      "38/38 [==============================] - 3s 87ms/step - loss: 0.0024\n",
      "Epoch 19/40\n",
      "38/38 [==============================] - 3s 89ms/step - loss: 0.0029\n",
      "Epoch 20/40\n",
      "38/38 [==============================] - 3s 89ms/step - loss: 0.0026\n",
      "Epoch 21/40\n",
      "38/38 [==============================] - 3s 87ms/step - loss: 0.0023\n",
      "Epoch 22/40\n",
      "38/38 [==============================] - 3s 87ms/step - loss: 0.0022\n",
      "Epoch 23/40\n",
      "38/38 [==============================] - 3s 87ms/step - loss: 0.0025\n",
      "Epoch 24/40\n",
      "38/38 [==============================] - 3s 87ms/step - loss: 0.0024\n",
      "Epoch 25/40\n",
      "38/38 [==============================] - 3s 86ms/step - loss: 0.0023\n",
      "Epoch 26/40\n",
      "38/38 [==============================] - 3s 86ms/step - loss: 0.0020\n",
      "Epoch 27/40\n",
      "38/38 [==============================] - 3s 87ms/step - loss: 0.0021\n",
      "Epoch 28/40\n",
      "38/38 [==============================] - 3s 87ms/step - loss: 0.0022\n",
      "Epoch 29/40\n",
      "38/38 [==============================] - 3s 87ms/step - loss: 0.0020\n",
      "Epoch 30/40\n",
      "38/38 [==============================] - 3s 86ms/step - loss: 0.0018\n",
      "Epoch 31/40\n",
      "38/38 [==============================] - 3s 86ms/step - loss: 0.0022\n",
      "Epoch 32/40\n",
      "38/38 [==============================] - 3s 86ms/step - loss: 0.0017\n",
      "Epoch 33/40\n",
      "38/38 [==============================] - 3s 86ms/step - loss: 0.0020\n",
      "Epoch 34/40\n",
      "38/38 [==============================] - 3s 86ms/step - loss: 0.0017\n",
      "Epoch 35/40\n",
      "38/38 [==============================] - 3s 86ms/step - loss: 0.0018\n",
      "Epoch 36/40\n",
      "38/38 [==============================] - 3s 88ms/step - loss: 0.0018\n",
      "Epoch 37/40\n",
      "38/38 [==============================] - 3s 87ms/step - loss: 0.0017\n",
      "Epoch 38/40\n",
      "38/38 [==============================] - 3s 91ms/step - loss: 0.0015\n",
      "Epoch 39/40\n",
      "38/38 [==============================] - 3s 89ms/step - loss: 0.0016\n",
      "Epoch 40/40\n",
      "38/38 [==============================] - 3s 86ms/step - loss: 0.0014\n"
     ]
    }
   ],
   "source": [
    "history = model.fit(X_final, y_final, batch_size=32, epochs=40)"
   ]
  },
  {
   "cell_type": "code",
   "execution_count": 18,
   "id": "2e30e656",
   "metadata": {},
   "outputs": [
    {
     "data": {
      "text/plain": [
       "[<matplotlib.lines.Line2D at 0x1e0ffee4cd0>]"
      ]
     },
     "execution_count": 18,
     "metadata": {},
     "output_type": "execute_result"
    },
    {
     "data": {
      "image/png": "[encoded data removed]",
      "text/plain": [
       "<Figure size 640x480 with 1 Axes>"
      ]
     },
     "metadata": {},
     "output_type": "display_data"
    }
   ],
   "source": [
    "plt.plot(history.history['loss'])"
   ]
  },
  {
   "cell_type": "code",
   "execution_count": 19,
   "id": "036ae934",
   "metadata": {},
   "outputs": [
    {
     "data": {
      "text/plain": [
       "(20, 4)"
      ]
     },
     "execution_count": 19,
     "metadata": {},
     "output_type": "execute_result"
    }
   ],
   "source": [
    "df_test[\"Volume\"] = df_test[\"Volume\"].str.replace(',', '').astype(float)\n",
    "df_test.dtypes\n",
    "X_test = df_test[['Open','High','Low','Volume']]\n",
    "X_test_scaled = scaler.transform(df_test[['Open','High','Low','Volume']])\n",
    "X_test_scaled.shape"
   ]
  },
  {
   "cell_type": "code",
   "execution_count": 20,
   "id": "840caf67",
   "metadata": {},
   "outputs": [],
   "source": [
    "X_test_temp = np.vstack([X_scaled[-60:], X_test_scaled])"
   ]
  },
  {
   "cell_type": "code",
   "execution_count": 21,
   "id": "c7158e7d",
   "metadata": {},
   "outputs": [],
   "source": [
    "rows = []\n",
    "for i in range(20):\n",
    "    rows.append(X_test_temp[i:60+i])\n",
    "X_test_final = np.array(rows)"
   ]
  },
  {
   "cell_type": "code",
   "execution_count": 22,
   "id": "084bda1f",
   "metadata": {},
   "outputs": [
    {
     "data": {
      "text/plain": [
       "(20, 60, 4)"
      ]
     },
     "execution_count": 22,
     "metadata": {},
     "output_type": "execute_result"
    }
   ],
   "source": [
    "X_test_final.shape"
   ]
  },
  {
   "cell_type": "code",
   "execution_count": 23,
   "id": "3424eccb",
   "metadata": {},
   "outputs": [
    {
     "name": "stdout",
     "output_type": "stream",
     "text": [
      "1/1 [==============================] - 2s 2s/step\n"
     ]
    },
    {
     "data": {
      "text/plain": [
       "array([1.86025746e-03, 1.86751825e-03, 1.89422640e-03, 4.00480577e-08])"
      ]
     },
     "execution_count": 23,
     "metadata": {},
     "output_type": "execute_result"
    }
   ],
   "source": [
    "yp = model.predict(X_test_final)\n",
    "scaler.scale_"
   ]
  },
  {
   "cell_type": "code",
   "execution_count": 24,
   "id": "b63c8f02",
   "metadata": {},
   "outputs": [
    {
     "data": {
      "text/plain": [
       "537.5599998937781"
      ]
     },
     "execution_count": 24,
     "metadata": {},
     "output_type": "execute_result"
    }
   ],
   "source": [
    "inv = 1/1.86025746e-03\n",
    "inv"
   ]
  },
  {
   "cell_type": "code",
   "execution_count": null,
   "id": "ca62ed00",
   "metadata": {},
   "outputs": [],
   "source": []
  }
 ],
 "metadata": {
  "kernelspec": {
   "display_name": "Python [conda env:dsml20_env1]",
   "language": "python",
   "name": "conda-env-dsml20_env1-py"
  },
  "language_info": {
   "codemirror_mode": {
    "name": "ipython",
    "version": 3
   },
   "file_extension": ".py",
   "mimetype": "text/x-python",
   "name": "python",
   "nbconvert_exporter": "python",
   "pygments_lexer": "ipython3",
   "version": "3.9.16"
  }
 },
 "nbformat": 4,
 "nbformat_minor": 5
}
